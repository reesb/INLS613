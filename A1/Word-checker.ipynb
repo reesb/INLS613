{
 "cells": [
  {
   "cell_type": "code",
   "execution_count": 1,
   "metadata": {},
   "outputs": [],
   "source": [
    "import numpy as np\n",
    "import pandas as pd"
   ]
  },
  {
   "cell_type": "code",
   "execution_count": 2,
   "metadata": {},
   "outputs": [
    {
     "data": {
      "text/html": [
       "<div>\n",
       "<style scoped>\n",
       "    .dataframe tbody tr th:only-of-type {\n",
       "        vertical-align: middle;\n",
       "    }\n",
       "\n",
       "    .dataframe tbody tr th {\n",
       "        vertical-align: top;\n",
       "    }\n",
       "\n",
       "    .dataframe thead th {\n",
       "        text-align: right;\n",
       "    }\n",
       "</style>\n",
       "<table border=\"1\" class=\"dataframe\">\n",
       "  <thead>\n",
       "    <tr style=\"text-align: right;\">\n",
       "      <th></th>\n",
       "      <th>0</th>\n",
       "      <th>1</th>\n",
       "      <th>2</th>\n",
       "      <th>3</th>\n",
       "    </tr>\n",
       "  </thead>\n",
       "  <tbody>\n",
       "    <tr>\n",
       "      <th>0</th>\n",
       "      <td>It was clear right from the beginning that 9/...</td>\n",
       "      <td>positive</td>\n",
       "      <td>positive</td>\n",
       "      <td>random tiebreak</td>\n",
       "    </tr>\n",
       "    <tr>\n",
       "      <th>1</th>\n",
       "      <td>The most hillarious and funny Brooks movie I ...</td>\n",
       "      <td>positive</td>\n",
       "      <td>positive</td>\n",
       "      <td>None</td>\n",
       "    </tr>\n",
       "    <tr>\n",
       "      <th>2</th>\n",
       "      <td>Along with Fernando Fragata JoÃ£o MÃ¡rio Gril...</td>\n",
       "      <td>positive</td>\n",
       "      <td>positive</td>\n",
       "      <td>None</td>\n",
       "    </tr>\n",
       "    <tr>\n",
       "      <th>3</th>\n",
       "      <td>The original Vampires (1998) is one of my fav...</td>\n",
       "      <td>positive</td>\n",
       "      <td>positive</td>\n",
       "      <td>None</td>\n",
       "    </tr>\n",
       "    <tr>\n",
       "      <th>4</th>\n",
       "      <td>The Matador stars Pierce Brosnan as a burned ...</td>\n",
       "      <td>positive</td>\n",
       "      <td>positive</td>\n",
       "      <td>None</td>\n",
       "    </tr>\n",
       "    <tr>\n",
       "      <th>...</th>\n",
       "      <td>...</td>\n",
       "      <td>...</td>\n",
       "      <td>...</td>\n",
       "      <td>...</td>\n",
       "    </tr>\n",
       "    <tr>\n",
       "      <th>1995</th>\n",
       "      <td>Lifetime did it again. Can we say stupid? I c...</td>\n",
       "      <td>negative</td>\n",
       "      <td>negative</td>\n",
       "      <td>None</td>\n",
       "    </tr>\n",
       "    <tr>\n",
       "      <th>1996</th>\n",
       "      <td>OK first of all Steve Irwin rest in peace. Yo...</td>\n",
       "      <td>negative</td>\n",
       "      <td>negative</td>\n",
       "      <td>None</td>\n",
       "    </tr>\n",
       "    <tr>\n",
       "      <th>1997</th>\n",
       "      <td>If you want to know the real story of the Wen...</td>\n",
       "      <td>negative</td>\n",
       "      <td>negative</td>\n",
       "      <td>None</td>\n",
       "    </tr>\n",
       "    <tr>\n",
       "      <th>1998</th>\n",
       "      <td>I've just had the evidence that confirmed my ...</td>\n",
       "      <td>negative</td>\n",
       "      <td>negative</td>\n",
       "      <td>None</td>\n",
       "    </tr>\n",
       "    <tr>\n",
       "      <th>1999</th>\n",
       "      <td>*Contains some spoilers* This movie is cheesy...</td>\n",
       "      <td>negative</td>\n",
       "      <td>negative</td>\n",
       "      <td>None</td>\n",
       "    </tr>\n",
       "  </tbody>\n",
       "</table>\n",
       "<p>2000 rows × 4 columns</p>\n",
       "</div>"
      ],
      "text/plain": [
       "                                                      0         1         2  \\\n",
       "0      It was clear right from the beginning that 9/...  positive  positive   \n",
       "1      The most hillarious and funny Brooks movie I ...  positive  positive   \n",
       "2      Along with Fernando Fragata JoÃ£o MÃ¡rio Gril...  positive  positive   \n",
       "3      The original Vampires (1998) is one of my fav...  positive  positive   \n",
       "4      The Matador stars Pierce Brosnan as a burned ...  positive  positive   \n",
       "...                                                 ...       ...       ...   \n",
       "1995   Lifetime did it again. Can we say stupid? I c...  negative  negative   \n",
       "1996   OK first of all Steve Irwin rest in peace. Yo...  negative  negative   \n",
       "1997   If you want to know the real story of the Wen...  negative  negative   \n",
       "1998   I've just had the evidence that confirmed my ...  negative  negative   \n",
       "1999   *Contains some spoilers* This movie is cheesy...  negative  negative   \n",
       "\n",
       "                    3  \n",
       "0     random tiebreak  \n",
       "1                None  \n",
       "2                None  \n",
       "3                None  \n",
       "4                None  \n",
       "...               ...  \n",
       "1995             None  \n",
       "1996             None  \n",
       "1997             None  \n",
       "1998             None  \n",
       "1999             None  \n",
       "\n",
       "[2000 rows x 4 columns]"
      ]
     },
     "execution_count": 2,
     "metadata": {},
     "output_type": "execute_result"
    }
   ],
   "source": [
    "df = pd.read_csv(\"./ManualSentimentClassifier/train.pred.csv\", engine=\"python\", header=None)\n",
    "df"
   ]
  },
  {
   "cell_type": "code",
   "execution_count": 116,
   "metadata": {},
   "outputs": [
    {
     "data": {
      "text/plain": [
       "\" In Rosenstrasse Margarethe von Trotta blends two stories to create a vibrant tapestry of love and courage. The film depicts a family drama of estrangement between a mother and her daughter and the story of German women who staged a protest on Rosenstrasse to free their Jewish husbands from certain extermination. In addition to the dramatization of historical events the focus of the film is on the saving of a child from the Holocaust by a German and the result of the child's experience of losing her mother. While Ms. von Trotta shows that the courage of a small number of Germans made a difference she does not use it to excuse German society. Indeed she shows how in the midst of torture and extermination the wealthy artists and intellectuals of German high society went on about their lives and parties oblivious to the suffering. Rosenstrasse opens in New York as a Jewish widow Ruth Weinstein (Jutta Lampe) decides to sit Shiva a seven-day period of mourning that takes place following a funeral in which Jewish family members devote full attention to remembering and mourning the deceased. When her daughter Hannah (Maria Schrader) is forbidden to receive phone calls from her fiancÃ© Luis (Fedja van Huet) a non-Jew Hannah questions why her mother has suddenly decided to follow an Orthodox tradition that she previously rejected. When Ruth coldly rejects her cousin Hannah questions her and learns about a woman named Lena who took Ruth in as a child when the latter's mother was deported and murdered by the Nazis and she vows to find Lena and discover the secret of her mother's past. Her quest takes her to Berlin where she finds Lena (Doris Schade) now ninety years old and interviews her on the pretext that she is a journalist researching certain aspects of the Holocaust. With unfailing memory Lena tells her story of how as a young 33-year old woman (Katja Reimann) she searched for her husband Jewish pianist Fabian Israel Fischer (Martin Feifel) who disappeared and was presumed to have been imprisoned despite the protection normally given Jews in mixed marriages. Lena in a radiant performance by Reimann discovers that her husband and other Jews are being held prisoner in a former factory on the Rosenstrasse. Standing together in the freezing night German women whose husband are missing congregate outside the building their numbers growing daily until they reach one thousand shouting Give us back our husbands . Lena finds Ruth (Svea Lohde) a young girl whose mother is in the building. She takes care of her protecting her from the Gestapo and raising her after her mother is killed. Lena comes from an aristocratic German family and her brother recently returned from Stalingrad is a Wehrmacht officer. After being refused help from her father to free Fabian she enlists the aid of her brother who tells a fellow Officer I know what they do to the Jews. I saw it . Given his support she is bold enough to bypass channels and go to the top where her beauty and charm prove irresistible for the Minister of Culture Joseph Goebbels a known womanizer. While this fictional part of the film has been criticized as degrading to the women protesters it is a historical fact that Goebbels was very active in making the decisions affecting Rosenstrasse. The director Margarethe von Trotta an activist feminist and intellectual is no stranger to political drama. She directed a film about Socialist Rosa Luxembourg and Marianne and Julianne a story of the relationship between two sisters one of whom resorts to political violence to accomplish her liberal objectives. In Rosenstrasse a film she worked on for eight years she had to make compromises adding the present day fictional element in order to have her film produced. That it works so well is a tribute to Ms. von Trotta's artistry and the beautiful screenplay by Pamela Katz whose father was a refugee from Leipzig. The events at Rosenstrasse give the lie to Germans who say there was nothing we could do . Now von Trotta has shown the opposite to be true that something could be done to resist the Nazis. It is tragic that the example did not catch on. \""
      ]
     },
     "execution_count": 116,
     "metadata": {},
     "output_type": "execute_result"
    }
   ],
   "source": [
    "# 10, 15, 19, 24, 28, 30\n",
    "s = str(df.iat[15, 0])\n",
    "s"
   ]
  },
  {
   "cell_type": "code",
   "execution_count": 117,
   "metadata": {},
   "outputs": [],
   "source": [
    "file = open(\"./ManualSentimentClassifier/negative.txt\", \"r\")\n",
    "neg = file.read()\n",
    "\n",
    "file = open(\"./ManualSentimentClassifier/positive.txt\", \"r\")\n",
    "pos = file.read()"
   ]
  },
  {
   "cell_type": "code",
   "execution_count": 118,
   "metadata": {},
   "outputs": [],
   "source": [
    "import re\n",
    "negwords = re.findall(\"(?<=\\\\n)(.*?)(?=\\\\n)\", neg)\n",
    "negwords.insert(0, \"bad\")\n",
    "\n",
    "poswords = re.findall(\"(?<=\\\\n)(.*?)(?=\\\\n)\", pos)\n",
    "poswords.insert(0, \"good\")"
   ]
  },
  {
   "cell_type": "code",
   "execution_count": 119,
   "metadata": {},
   "outputs": [],
   "source": [
    "posout = []\n",
    "negout = []\n",
    "\n",
    "for word in s.split():\n",
    "    if word in set(poswords):\n",
    "        posout.append(word)\n",
    "    \n",
    "    if word in set(negwords):\n",
    "        negout.append(word)"
   ]
  },
  {
   "cell_type": "code",
   "execution_count": 120,
   "metadata": {},
   "outputs": [
    {
     "data": {
      "text/plain": [
       "-2"
      ]
     },
     "execution_count": 120,
     "metadata": {},
     "output_type": "execute_result"
    }
   ],
   "source": [
    "len(posout) - len(negout)"
   ]
  },
  {
   "cell_type": "code",
   "execution_count": 121,
   "metadata": {},
   "outputs": [
    {
     "name": "stdout",
     "output_type": "stream",
     "text": [
      "POSITIVE WORDS:\n",
      "vibrant\n",
      "love\n",
      "free\n",
      "courage\n",
      "wealthy\n",
      "growing\n",
      "reach\n",
      "help\n",
      "free\n",
      "support\n",
      "bold\n",
      "beauty\n",
      "charm\n",
      "irresistible\n",
      "active\n",
      "accomplish\n",
      "beautiful\n",
      "true\n",
      "\n",
      "NEGATIVE WORDS:\n",
      "protest\n",
      "losing\n",
      "excuse\n",
      "torture\n",
      "mourning\n",
      "funeral\n",
      "mourning\n",
      "rejects\n",
      "disappeared\n",
      "imprisoned\n",
      "prisoner\n",
      "missing\n",
      "care\n",
      "refused\n",
      "top\n",
      "criticized\n",
      "protesters\n",
      "no\n",
      "violence\n",
      "tragic\n"
     ]
    }
   ],
   "source": [
    "print(\"POSITIVE WORDS:\")\n",
    "for word in posout:\n",
    "    print(word)\n",
    "print(\"\\nNEGATIVE WORDS:\")\n",
    "for word in negout:\n",
    "    print(word)"
   ]
  }
 ],
 "metadata": {
  "kernelspec": {
   "display_name": "Python 3",
   "language": "python",
   "name": "python3"
  },
  "language_info": {
   "codemirror_mode": {
    "name": "ipython",
    "version": 3
   },
   "file_extension": ".py",
   "mimetype": "text/x-python",
   "name": "python",
   "nbconvert_exporter": "python",
   "pygments_lexer": "ipython3",
   "version": "3.8.1"
  }
 },
 "nbformat": 4,
 "nbformat_minor": 4
}
