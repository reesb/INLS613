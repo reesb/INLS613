{
 "cells": [
  {
   "cell_type": "code",
   "execution_count": 3,
   "metadata": {},
   "outputs": [],
   "source": [
    "import pandas as pd"
   ]
  },
  {
   "cell_type": "code",
   "execution_count": 4,
   "metadata": {},
   "outputs": [
    {
     "data": {
      "text/html": [
       "<div>\n",
       "<style scoped>\n",
       "    .dataframe tbody tr th:only-of-type {\n",
       "        vertical-align: middle;\n",
       "    }\n",
       "\n",
       "    .dataframe tbody tr th {\n",
       "        vertical-align: top;\n",
       "    }\n",
       "\n",
       "    .dataframe thead th {\n",
       "        text-align: right;\n",
       "    }\n",
       "</style>\n",
       "<table border=\"1\" class=\"dataframe\">\n",
       "  <thead>\n",
       "    <tr style=\"text-align: right;\">\n",
       "      <th></th>\n",
       "      <th>0</th>\n",
       "      <th>1</th>\n",
       "      <th>2</th>\n",
       "      <th>3</th>\n",
       "    </tr>\n",
       "  </thead>\n",
       "  <tbody>\n",
       "    <tr>\n",
       "      <th>0</th>\n",
       "      <td>It was clear right from the beginning that 9/...</td>\n",
       "      <td>positive</td>\n",
       "      <td>positive</td>\n",
       "      <td>NaN</td>\n",
       "    </tr>\n",
       "    <tr>\n",
       "      <th>1</th>\n",
       "      <td>The most hillarious and funny Brooks movie I ...</td>\n",
       "      <td>positive</td>\n",
       "      <td>positive</td>\n",
       "      <td>NaN</td>\n",
       "    </tr>\n",
       "    <tr>\n",
       "      <th>2</th>\n",
       "      <td>Along with Fernando Fragata JoÃ£o MÃ¡rio Gril...</td>\n",
       "      <td>positive</td>\n",
       "      <td>positive</td>\n",
       "      <td>NaN</td>\n",
       "    </tr>\n",
       "    <tr>\n",
       "      <th>3</th>\n",
       "      <td>The original Vampires (1998) is one of my fav...</td>\n",
       "      <td>positive</td>\n",
       "      <td>positive</td>\n",
       "      <td>NaN</td>\n",
       "    </tr>\n",
       "    <tr>\n",
       "      <th>4</th>\n",
       "      <td>The Matador stars Pierce Brosnan as a burned ...</td>\n",
       "      <td>positive</td>\n",
       "      <td>negative</td>\n",
       "      <td>NaN</td>\n",
       "    </tr>\n",
       "    <tr>\n",
       "      <th>...</th>\n",
       "      <td>...</td>\n",
       "      <td>...</td>\n",
       "      <td>...</td>\n",
       "      <td>...</td>\n",
       "    </tr>\n",
       "    <tr>\n",
       "      <th>1995</th>\n",
       "      <td>Lifetime did it again. Can we say stupid? I c...</td>\n",
       "      <td>negative</td>\n",
       "      <td>negative</td>\n",
       "      <td>NaN</td>\n",
       "    </tr>\n",
       "    <tr>\n",
       "      <th>1996</th>\n",
       "      <td>OK first of all Steve Irwin rest in peace. Yo...</td>\n",
       "      <td>negative</td>\n",
       "      <td>positive</td>\n",
       "      <td>NaN</td>\n",
       "    </tr>\n",
       "    <tr>\n",
       "      <th>1997</th>\n",
       "      <td>If you want to know the real story of the Wen...</td>\n",
       "      <td>negative</td>\n",
       "      <td>negative</td>\n",
       "      <td>random tiebreak</td>\n",
       "    </tr>\n",
       "    <tr>\n",
       "      <th>1998</th>\n",
       "      <td>I've just had the evidence that confirmed my ...</td>\n",
       "      <td>negative</td>\n",
       "      <td>negative</td>\n",
       "      <td>NaN</td>\n",
       "    </tr>\n",
       "    <tr>\n",
       "      <th>1999</th>\n",
       "      <td>*Contains some spoilers* This movie is cheesy...</td>\n",
       "      <td>negative</td>\n",
       "      <td>negative</td>\n",
       "      <td>NaN</td>\n",
       "    </tr>\n",
       "  </tbody>\n",
       "</table>\n",
       "<p>2000 rows × 4 columns</p>\n",
       "</div>"
      ],
      "text/plain": [
       "                                                      0         1         2  \\\n",
       "0      It was clear right from the beginning that 9/...  positive  positive   \n",
       "1      The most hillarious and funny Brooks movie I ...  positive  positive   \n",
       "2      Along with Fernando Fragata JoÃ£o MÃ¡rio Gril...  positive  positive   \n",
       "3      The original Vampires (1998) is one of my fav...  positive  positive   \n",
       "4      The Matador stars Pierce Brosnan as a burned ...  positive  negative   \n",
       "...                                                 ...       ...       ...   \n",
       "1995   Lifetime did it again. Can we say stupid? I c...  negative  negative   \n",
       "1996   OK first of all Steve Irwin rest in peace. Yo...  negative  positive   \n",
       "1997   If you want to know the real story of the Wen...  negative  negative   \n",
       "1998   I've just had the evidence that confirmed my ...  negative  negative   \n",
       "1999   *Contains some spoilers* This movie is cheesy...  negative  negative   \n",
       "\n",
       "                    3  \n",
       "0                 NaN  \n",
       "1                 NaN  \n",
       "2                 NaN  \n",
       "3                 NaN  \n",
       "4                 NaN  \n",
       "...               ...  \n",
       "1995              NaN  \n",
       "1996              NaN  \n",
       "1997  random tiebreak  \n",
       "1998              NaN  \n",
       "1999              NaN  \n",
       "\n",
       "[2000 rows x 4 columns]"
      ]
     },
     "execution_count": 4,
     "metadata": {},
     "output_type": "execute_result"
    }
   ],
   "source": [
    "df = pd.read_csv(\"./ManualSentimentClassifier/train.pred.csv\", engine=\"python\", header=None)\n",
    "df"
   ]
  },
  {
   "cell_type": "code",
   "execution_count": 119,
   "metadata": {},
   "outputs": [
    {
     "data": {
      "text/plain": [
       "\" The Matador stars Pierce Brosnan as a burned out assassin. He's James Bond gone to seed in too-tight garish clothes gold chains and an ugly haircut. Our struggling assassin Julian Noble is in Mexico trying to regain his nerve. Staying at the same hotel is a likable down-on-his luck businessman Danny Wright (Greg Kinnear) also trying to regain his equilibrium. Danny is desperate to close a deal and return to his wife in Denver (Hope Davis) with good news. Noble and Wright unexpectedly become friends. Wright convinces Noble to reveal certain techniques which he demonstrates at a bullfight. Noble is eventually targeted by his employers and shows up in Denver. Writer and director Richard Shepard did the Q&A after this delightful movie at the Austin Film Festival. Shepard was also down on his luck. After suffering the loss of his agent and rejection of recent scripts he decided to write a story no one would buy and create a character no one would want to play. Then Pierce Brosnan called. Brosnan regains his equilibrium in this movie. (There is life after Bond!) He has a wonderful flair for self-deprecating comedy. Don't miss it. Stay for the closing credits to read what the filmmakers say about bullfighting. I look forward to more of Richard Shepard's projects. \""
      ]
     },
     "execution_count": 119,
     "metadata": {},
     "output_type": "execute_result"
    }
   ],
   "source": [
    "s = str(df.iat[4, 0])\n",
    "s"
   ]
  },
  {
   "cell_type": "code",
   "execution_count": 120,
   "metadata": {},
   "outputs": [],
   "source": [
    "file = open(\"./ManualSentimentClassifier/negative.txt\", \"r\")\n",
    "neg = file.read()\n",
    "\n",
    "file = open(\"./ManualSentimentClassifier/positive.txt\", \"r\")\n",
    "pos = file.read()"
   ]
  },
  {
   "cell_type": "code",
   "execution_count": 121,
   "metadata": {},
   "outputs": [],
   "source": [
    "import re\n",
    "negwords = re.findall(\"(?<=\\\\n)(.*?)(?=\\\\n)\", neg)\n",
    "negwords.insert(0, \"bad\")\n",
    "\n",
    "poswords = re.findall(\"(?<=\\\\n)(.*?)(?=\\\\n)\", pos)\n",
    "poswords.insert(0, \"good\")"
   ]
  },
  {
   "cell_type": "code",
   "execution_count": 122,
   "metadata": {},
   "outputs": [],
   "source": [
    "posout = []\n",
    "negout = []\n",
    "\n",
    "for word in s.split():\n",
    "    if word in set(poswords):\n",
    "        posout.append(word)\n",
    "    \n",
    "    if word in set(negwords):\n",
    "        negout.append(word)"
   ]
  },
  {
   "cell_type": "code",
   "execution_count": 123,
   "metadata": {},
   "outputs": [
    {
     "data": {
      "text/plain": [
       "-6"
      ]
     },
     "execution_count": 123,
     "metadata": {},
     "output_type": "execute_result"
    }
   ],
   "source": [
    "len(posout) - len(negout)"
   ]
  },
  {
   "cell_type": "code",
   "execution_count": 124,
   "metadata": {},
   "outputs": [
    {
     "name": "stdout",
     "output_type": "stream",
     "text": [
      "POSITIVE WORDS:\n",
      "gold\n",
      "likable\n",
      "luck\n",
      "good\n",
      "delightful\n",
      "wonderful\n",
      "\n",
      "NEGATIVE WORDS:\n",
      "burned\n",
      "garish\n",
      "ugly\n",
      "struggling\n",
      "assassin\n",
      "desperate\n",
      "unexpectedly\n",
      "suffering\n",
      "loss\n",
      "rejection\n",
      "flair\n",
      "miss\n"
     ]
    }
   ],
   "source": [
    "print(\"POSITIVE WORDS:\")\n",
    "for word in posout:\n",
    "    print(word)\n",
    "print(\"\\nNEGATIVE WORDS:\")\n",
    "for word in negout:\n",
    "    print(word)"
   ]
  },
  {
   "cell_type": "code",
   "execution_count": null,
   "metadata": {},
   "outputs": [],
   "source": []
  }
 ],
 "metadata": {
  "kernelspec": {
   "display_name": "Python 3",
   "language": "python",
   "name": "python3"
  },
  "language_info": {
   "codemirror_mode": {
    "name": "ipython",
    "version": 3
   },
   "file_extension": ".py",
   "mimetype": "text/x-python",
   "name": "python",
   "nbconvert_exporter": "python",
   "pygments_lexer": "ipython3",
   "version": "3.8.1"
  }
 },
 "nbformat": 4,
 "nbformat_minor": 4
}
