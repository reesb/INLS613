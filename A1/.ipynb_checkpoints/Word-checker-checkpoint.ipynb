{
 "cells": [
  {
   "cell_type": "code",
   "execution_count": 1,
   "metadata": {},
   "outputs": [],
   "source": [
    "import numpy as np\n",
    "import pandas as pd"
   ]
  },
  {
   "cell_type": "code",
   "execution_count": 2,
   "metadata": {},
   "outputs": [
    {
     "data": {
      "text/html": [
       "<div>\n",
       "<style scoped>\n",
       "    .dataframe tbody tr th:only-of-type {\n",
       "        vertical-align: middle;\n",
       "    }\n",
       "\n",
       "    .dataframe tbody tr th {\n",
       "        vertical-align: top;\n",
       "    }\n",
       "\n",
       "    .dataframe thead th {\n",
       "        text-align: right;\n",
       "    }\n",
       "</style>\n",
       "<table border=\"1\" class=\"dataframe\">\n",
       "  <thead>\n",
       "    <tr style=\"text-align: right;\">\n",
       "      <th></th>\n",
       "      <th>0</th>\n",
       "      <th>1</th>\n",
       "      <th>2</th>\n",
       "      <th>3</th>\n",
       "    </tr>\n",
       "  </thead>\n",
       "  <tbody>\n",
       "    <tr>\n",
       "      <th>0</th>\n",
       "      <td>It was clear right from the beginning that 9/...</td>\n",
       "      <td>positive</td>\n",
       "      <td>positive</td>\n",
       "      <td>random tiebreak</td>\n",
       "    </tr>\n",
       "    <tr>\n",
       "      <th>1</th>\n",
       "      <td>The most hillarious and funny Brooks movie I ...</td>\n",
       "      <td>positive</td>\n",
       "      <td>positive</td>\n",
       "      <td>None</td>\n",
       "    </tr>\n",
       "    <tr>\n",
       "      <th>2</th>\n",
       "      <td>Along with Fernando Fragata JoÃ£o MÃ¡rio Gril...</td>\n",
       "      <td>positive</td>\n",
       "      <td>positive</td>\n",
       "      <td>None</td>\n",
       "    </tr>\n",
       "    <tr>\n",
       "      <th>3</th>\n",
       "      <td>The original Vampires (1998) is one of my fav...</td>\n",
       "      <td>positive</td>\n",
       "      <td>positive</td>\n",
       "      <td>None</td>\n",
       "    </tr>\n",
       "    <tr>\n",
       "      <th>4</th>\n",
       "      <td>The Matador stars Pierce Brosnan as a burned ...</td>\n",
       "      <td>positive</td>\n",
       "      <td>positive</td>\n",
       "      <td>None</td>\n",
       "    </tr>\n",
       "    <tr>\n",
       "      <th>...</th>\n",
       "      <td>...</td>\n",
       "      <td>...</td>\n",
       "      <td>...</td>\n",
       "      <td>...</td>\n",
       "    </tr>\n",
       "    <tr>\n",
       "      <th>1995</th>\n",
       "      <td>Lifetime did it again. Can we say stupid? I c...</td>\n",
       "      <td>negative</td>\n",
       "      <td>negative</td>\n",
       "      <td>None</td>\n",
       "    </tr>\n",
       "    <tr>\n",
       "      <th>1996</th>\n",
       "      <td>OK first of all Steve Irwin rest in peace. Yo...</td>\n",
       "      <td>negative</td>\n",
       "      <td>negative</td>\n",
       "      <td>None</td>\n",
       "    </tr>\n",
       "    <tr>\n",
       "      <th>1997</th>\n",
       "      <td>If you want to know the real story of the Wen...</td>\n",
       "      <td>negative</td>\n",
       "      <td>negative</td>\n",
       "      <td>None</td>\n",
       "    </tr>\n",
       "    <tr>\n",
       "      <th>1998</th>\n",
       "      <td>I've just had the evidence that confirmed my ...</td>\n",
       "      <td>negative</td>\n",
       "      <td>negative</td>\n",
       "      <td>None</td>\n",
       "    </tr>\n",
       "    <tr>\n",
       "      <th>1999</th>\n",
       "      <td>*Contains some spoilers* This movie is cheesy...</td>\n",
       "      <td>negative</td>\n",
       "      <td>negative</td>\n",
       "      <td>None</td>\n",
       "    </tr>\n",
       "  </tbody>\n",
       "</table>\n",
       "<p>2000 rows × 4 columns</p>\n",
       "</div>"
      ],
      "text/plain": [
       "                                                      0         1         2  \\\n",
       "0      It was clear right from the beginning that 9/...  positive  positive   \n",
       "1      The most hillarious and funny Brooks movie I ...  positive  positive   \n",
       "2      Along with Fernando Fragata JoÃ£o MÃ¡rio Gril...  positive  positive   \n",
       "3      The original Vampires (1998) is one of my fav...  positive  positive   \n",
       "4      The Matador stars Pierce Brosnan as a burned ...  positive  positive   \n",
       "...                                                 ...       ...       ...   \n",
       "1995   Lifetime did it again. Can we say stupid? I c...  negative  negative   \n",
       "1996   OK first of all Steve Irwin rest in peace. Yo...  negative  negative   \n",
       "1997   If you want to know the real story of the Wen...  negative  negative   \n",
       "1998   I've just had the evidence that confirmed my ...  negative  negative   \n",
       "1999   *Contains some spoilers* This movie is cheesy...  negative  negative   \n",
       "\n",
       "                    3  \n",
       "0     random tiebreak  \n",
       "1                None  \n",
       "2                None  \n",
       "3                None  \n",
       "4                None  \n",
       "...               ...  \n",
       "1995             None  \n",
       "1996             None  \n",
       "1997             None  \n",
       "1998             None  \n",
       "1999             None  \n",
       "\n",
       "[2000 rows x 4 columns]"
      ]
     },
     "execution_count": 2,
     "metadata": {},
     "output_type": "execute_result"
    }
   ],
   "source": [
    "df = pd.read_csv(\"./ManualSentimentClassifier/train.pred.csv\", engine=\"python\", header=None)\n",
    "df"
   ]
  },
  {
   "cell_type": "code",
   "execution_count": 98,
   "metadata": {},
   "outputs": [
    {
     "data": {
      "text/plain": [
       "\" Having looked at some of the other comments here I have a main complaint with this presentation. The two primary characters are attractive in their own ways - the beautiful victim and the handsome obviously extremely off-center blue-collar protagonist (if just short of totally-deranged ) - take turns beating the hell out of each other sort of like a Caucasian Kabuki scenario. This is all right and this is of course mainly a turning-the-tables story. However my referenced complaint is that I believe the director got caught-up in his desire to display Farrah's well-known and obvious physical attributes. Beginning with her being enticingly clad in a thin robe and with a number of scenes displaying more than needed for any dramatic effect - while immensely pleasing to the eyes these distract from the poignancy level of the drama. Her roommates I'm certain give performances as written and directed - however their respective skepticism and histrionic babbling and sobbing don't ring true -- based upon Farrah's previous experience with this guy the obvious evidence of his having come to their premises with only the worst of intentions and that she would have absolutely no grounds to be exaggerating what has occurred. But this is a film and story compelling as much in spite of as because of the director's work. \""
      ]
     },
     "execution_count": 98,
     "metadata": {},
     "output_type": "execute_result"
    }
   ],
   "source": [
    "# 10, 15, 19, 24, 28, 30\n",
    "s = str(df.iat[128, 0])\n",
    "s"
   ]
  },
  {
   "cell_type": "code",
   "execution_count": 99,
   "metadata": {},
   "outputs": [],
   "source": [
    "file = open(\"./ManualSentimentClassifier/negative.txt\", \"r\")\n",
    "neg = file.read()\n",
    "\n",
    "file = open(\"./ManualSentimentClassifier/positive.txt\", \"r\")\n",
    "pos = file.read()"
   ]
  },
  {
   "cell_type": "code",
   "execution_count": 100,
   "metadata": {},
   "outputs": [],
   "source": [
    "import re\n",
    "negwords = re.findall(\"(?<=\\\\n)(.*?)(?=\\\\n)\", neg)\n",
    "negwords.insert(0, \"bad\")\n",
    "\n",
    "poswords = re.findall(\"(?<=\\\\n)(.*?)(?=\\\\n)\", pos)\n",
    "poswords.insert(0, \"good\")"
   ]
  },
  {
   "cell_type": "code",
   "execution_count": 101,
   "metadata": {},
   "outputs": [],
   "source": [
    "posout = []\n",
    "negout = []\n",
    "\n",
    "for word in s.split():\n",
    "    if word in set(poswords):\n",
    "        posout.append(word)\n",
    "    \n",
    "    if word in set(negwords):\n",
    "        negout.append(word)"
   ]
  },
  {
   "cell_type": "code",
   "execution_count": 102,
   "metadata": {},
   "outputs": [
    {
     "data": {
      "text/plain": [
       "-6"
      ]
     },
     "execution_count": 102,
     "metadata": {},
     "output_type": "execute_result"
    }
   ],
   "source": [
    "len(posout) - len(negout)"
   ]
  },
  {
   "cell_type": "code",
   "execution_count": 103,
   "metadata": {},
   "outputs": [
    {
     "name": "stdout",
     "output_type": "stream",
     "text": [
      "POSITIVE WORDS:\n",
      "beautiful\n",
      "desire\n",
      "true\n",
      "\n",
      "NEGATIVE WORDS:\n",
      "victim\n",
      "beating\n",
      "hell\n",
      "like\n",
      "distract\n",
      "skepticism\n",
      "worst\n",
      "no\n",
      "exaggerating\n"
     ]
    }
   ],
   "source": [
    "print(\"POSITIVE WORDS:\")\n",
    "for word in posout:\n",
    "    print(word)\n",
    "print(\"\\nNEGATIVE WORDS:\")\n",
    "for word in negout:\n",
    "    print(word)"
   ]
  },
  {
   "cell_type": "code",
   "execution_count": null,
   "metadata": {},
   "outputs": [],
   "source": []
  }
 ],
 "metadata": {
  "kernelspec": {
   "display_name": "Python 3",
   "language": "python",
   "name": "python3"
  },
  "language_info": {
   "codemirror_mode": {
    "name": "ipython",
    "version": 3
   },
   "file_extension": ".py",
   "mimetype": "text/x-python",
   "name": "python",
   "nbconvert_exporter": "python",
   "pygments_lexer": "ipython3",
   "version": "3.8.1"
  }
 },
 "nbformat": 4,
 "nbformat_minor": 4
}
