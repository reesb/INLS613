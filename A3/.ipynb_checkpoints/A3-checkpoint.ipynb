{
 "cells": [
  {
   "cell_type": "code",
   "execution_count": 1,
   "metadata": {},
   "outputs": [
    {
     "data": {
      "application/javascript": [
       "\n",
       "            setTimeout(function() {\n",
       "                var nbb_cell_id = 1;\n",
       "                var nbb_unformatted_code = \"%load_ext nb_black\";\n",
       "                var nbb_formatted_code = \"%load_ext nb_black\";\n",
       "                var nbb_cells = Jupyter.notebook.get_cells();\n",
       "                for (var i = 0; i < nbb_cells.length; ++i) {\n",
       "                    if (nbb_cells[i].input_prompt_number == nbb_cell_id) {\n",
       "                        if (nbb_cells[i].get_text() == nbb_unformatted_code) {\n",
       "                             nbb_cells[i].set_text(nbb_formatted_code);\n",
       "                        }\n",
       "                        break;\n",
       "                    }\n",
       "                }\n",
       "            }, 500);\n",
       "            "
      ],
      "text/plain": [
       "<IPython.core.display.Javascript object>"
      ]
     },
     "metadata": {},
     "output_type": "display_data"
    }
   ],
   "source": [
    "%load_ext nb_black"
   ]
  },
  {
   "cell_type": "code",
   "execution_count": 2,
   "metadata": {},
   "outputs": [
    {
     "data": {
      "application/javascript": [
       "\n",
       "            setTimeout(function() {\n",
       "                var nbb_cell_id = 2;\n",
       "                var nbb_unformatted_code = \"import pandas as pd\";\n",
       "                var nbb_formatted_code = \"import pandas as pd\";\n",
       "                var nbb_cells = Jupyter.notebook.get_cells();\n",
       "                for (var i = 0; i < nbb_cells.length; ++i) {\n",
       "                    if (nbb_cells[i].input_prompt_number == nbb_cell_id) {\n",
       "                        if (nbb_cells[i].get_text() == nbb_unformatted_code) {\n",
       "                             nbb_cells[i].set_text(nbb_formatted_code);\n",
       "                        }\n",
       "                        break;\n",
       "                    }\n",
       "                }\n",
       "            }, 500);\n",
       "            "
      ],
      "text/plain": [
       "<IPython.core.display.Javascript object>"
      ]
     },
     "metadata": {},
     "output_type": "display_data"
    }
   ],
   "source": [
    "import pandas as pd"
   ]
  },
  {
   "cell_type": "code",
   "execution_count": 3,
   "metadata": {},
   "outputs": [
    {
     "data": {
      "application/javascript": [
       "\n",
       "            setTimeout(function() {\n",
       "                var nbb_cell_id = 3;\n",
       "                var nbb_unformatted_code = \"# ~~~~~~~~~~~~~~~~~~~~~~~~~~~~~~~~~~~~~~~~~~\\n# Begin method 1\";\n",
       "                var nbb_formatted_code = \"# ~~~~~~~~~~~~~~~~~~~~~~~~~~~~~~~~~~~~~~~~~~\\n# Begin method 1\";\n",
       "                var nbb_cells = Jupyter.notebook.get_cells();\n",
       "                for (var i = 0; i < nbb_cells.length; ++i) {\n",
       "                    if (nbb_cells[i].input_prompt_number == nbb_cell_id) {\n",
       "                        if (nbb_cells[i].get_text() == nbb_unformatted_code) {\n",
       "                             nbb_cells[i].set_text(nbb_formatted_code);\n",
       "                        }\n",
       "                        break;\n",
       "                    }\n",
       "                }\n",
       "            }, 500);\n",
       "            "
      ],
      "text/plain": [
       "<IPython.core.display.Javascript object>"
      ]
     },
     "metadata": {},
     "output_type": "display_data"
    }
   ],
   "source": [
    "# ~~~~~~~~~~~~~~~~~~~~~~~~~~~~~~~~~~~~~~~~~~\n",
    "# Begin method 1"
   ]
  },
  {
   "cell_type": "code",
   "execution_count": 4,
   "metadata": {},
   "outputs": [
    {
     "data": {
      "application/javascript": [
       "\n",
       "            setTimeout(function() {\n",
       "                var nbb_cell_id = 4;\n",
       "                var nbb_unformatted_code = \"music = pd.read_csv(\\\"hw3_data/music.train.annotators.csv\\\", encoding=\\\"latin-1\\\")\";\n",
       "                var nbb_formatted_code = \"music = pd.read_csv(\\\"hw3_data/music.train.annotators.csv\\\", encoding=\\\"latin-1\\\")\";\n",
       "                var nbb_cells = Jupyter.notebook.get_cells();\n",
       "                for (var i = 0; i < nbb_cells.length; ++i) {\n",
       "                    if (nbb_cells[i].input_prompt_number == nbb_cell_id) {\n",
       "                        if (nbb_cells[i].get_text() == nbb_unformatted_code) {\n",
       "                             nbb_cells[i].set_text(nbb_formatted_code);\n",
       "                        }\n",
       "                        break;\n",
       "                    }\n",
       "                }\n",
       "            }, 500);\n",
       "            "
      ],
      "text/plain": [
       "<IPython.core.display.Javascript object>"
      ]
     },
     "metadata": {},
     "output_type": "display_data"
    }
   ],
   "source": [
    "music = pd.read_csv(\"hw3_data/music.train.annotators.csv\", encoding=\"latin-1\")"
   ]
  },
  {
   "cell_type": "code",
   "execution_count": 5,
   "metadata": {},
   "outputs": [
    {
     "data": {
      "application/javascript": [
       "\n",
       "            setTimeout(function() {\n",
       "                var nbb_cell_id = 5;\n",
       "                var nbb_unformatted_code = \"d = {\\\"text\\\": [], \\\"class\\\": []}\\nout = pd.DataFrame(data=d)\";\n",
       "                var nbb_formatted_code = \"d = {\\\"text\\\": [], \\\"class\\\": []}\\nout = pd.DataFrame(data=d)\";\n",
       "                var nbb_cells = Jupyter.notebook.get_cells();\n",
       "                for (var i = 0; i < nbb_cells.length; ++i) {\n",
       "                    if (nbb_cells[i].input_prompt_number == nbb_cell_id) {\n",
       "                        if (nbb_cells[i].get_text() == nbb_unformatted_code) {\n",
       "                             nbb_cells[i].set_text(nbb_formatted_code);\n",
       "                        }\n",
       "                        break;\n",
       "                    }\n",
       "                }\n",
       "            }, 500);\n",
       "            "
      ],
      "text/plain": [
       "<IPython.core.display.Javascript object>"
      ]
     },
     "metadata": {},
     "output_type": "display_data"
    }
   ],
   "source": [
    "d = {\"text\": [], \"class\": []}\n",
    "out = pd.DataFrame(data=d)"
   ]
  },
  {
   "cell_type": "code",
   "execution_count": 6,
   "metadata": {},
   "outputs": [
    {
     "name": "stdout",
     "output_type": "stream",
     "text": [
      "0\n",
      "50\n",
      "100\n",
      "150\n",
      "200\n",
      "250\n",
      "300\n",
      "350\n",
      "400\n",
      "450\n",
      "500\n",
      "550\n",
      "600\n",
      "650\n",
      "700\n",
      "750\n",
      "800\n",
      "850\n",
      "900\n",
      "950\n"
     ]
    },
    {
     "data": {
      "application/javascript": [
       "\n",
       "            setTimeout(function() {\n",
       "                var nbb_cell_id = 6;\n",
       "                var nbb_unformatted_code = \"cert1 = 0\\ncert2 = 0\\ncert3 = 0\\ncert4 = 0\\ncert5 = 0\\n\\nfor idx, row in music.iterrows():\\n    if idx % 50 == 0:\\n        print(idx)\\n    if row[\\\"Certainty\\\"] == 1:\\n        cert1 += 1\\n        for i in range(1, 9):\\n            out = out.append(\\n                {\\\"text\\\": row[\\\"text\\\"], \\\"class\\\": row[\\\"Majority\\\"]}, ignore_index=True\\n            )\\n    if row[\\\"Certainty\\\"] == 0.875:\\n        cert2 += 1\\n        for i in range(1, 8):\\n            out = out.append(\\n                {\\\"text\\\": row[\\\"text\\\"], \\\"class\\\": row[\\\"Majority\\\"]}, ignore_index=True\\n            )\\n    if row[\\\"Certainty\\\"] == 0.75:\\n        cert3 += 1\\n        for i in range(1, 7):\\n            out = out.append(\\n                {\\\"text\\\": row[\\\"text\\\"], \\\"class\\\": row[\\\"Majority\\\"]}, ignore_index=True\\n            )\\n    if row[\\\"Certainty\\\"] == 0.625:\\n        cert4 += 1\\n        for i in range(1, 6):\\n            out = out.append(\\n                {\\\"text\\\": row[\\\"text\\\"], \\\"class\\\": row[\\\"Majority\\\"]}, ignore_index=True\\n            )\\n    if row[\\\"Certainty\\\"] == 0.5:\\n        cert5 += 1\\n        for i in range(1, 5):\\n            out = out.append(\\n                {\\\"text\\\": row[\\\"text\\\"], \\\"class\\\": row[\\\"Majority\\\"]}, ignore_index=True\\n            )\";\n",
       "                var nbb_formatted_code = \"cert1 = 0\\ncert2 = 0\\ncert3 = 0\\ncert4 = 0\\ncert5 = 0\\n\\nfor idx, row in music.iterrows():\\n    if idx % 50 == 0:\\n        print(idx)\\n    if row[\\\"Certainty\\\"] == 1:\\n        cert1 += 1\\n        for i in range(1, 9):\\n            out = out.append(\\n                {\\\"text\\\": row[\\\"text\\\"], \\\"class\\\": row[\\\"Majority\\\"]}, ignore_index=True\\n            )\\n    if row[\\\"Certainty\\\"] == 0.875:\\n        cert2 += 1\\n        for i in range(1, 8):\\n            out = out.append(\\n                {\\\"text\\\": row[\\\"text\\\"], \\\"class\\\": row[\\\"Majority\\\"]}, ignore_index=True\\n            )\\n    if row[\\\"Certainty\\\"] == 0.75:\\n        cert3 += 1\\n        for i in range(1, 7):\\n            out = out.append(\\n                {\\\"text\\\": row[\\\"text\\\"], \\\"class\\\": row[\\\"Majority\\\"]}, ignore_index=True\\n            )\\n    if row[\\\"Certainty\\\"] == 0.625:\\n        cert4 += 1\\n        for i in range(1, 6):\\n            out = out.append(\\n                {\\\"text\\\": row[\\\"text\\\"], \\\"class\\\": row[\\\"Majority\\\"]}, ignore_index=True\\n            )\\n    if row[\\\"Certainty\\\"] == 0.5:\\n        cert5 += 1\\n        for i in range(1, 5):\\n            out = out.append(\\n                {\\\"text\\\": row[\\\"text\\\"], \\\"class\\\": row[\\\"Majority\\\"]}, ignore_index=True\\n            )\";\n",
       "                var nbb_cells = Jupyter.notebook.get_cells();\n",
       "                for (var i = 0; i < nbb_cells.length; ++i) {\n",
       "                    if (nbb_cells[i].input_prompt_number == nbb_cell_id) {\n",
       "                        if (nbb_cells[i].get_text() == nbb_unformatted_code) {\n",
       "                             nbb_cells[i].set_text(nbb_formatted_code);\n",
       "                        }\n",
       "                        break;\n",
       "                    }\n",
       "                }\n",
       "            }, 500);\n",
       "            "
      ],
      "text/plain": [
       "<IPython.core.display.Javascript object>"
      ]
     },
     "metadata": {},
     "output_type": "display_data"
    }
   ],
   "source": [
    "cert1 = 0\n",
    "cert2 = 0\n",
    "cert3 = 0\n",
    "cert4 = 0\n",
    "cert5 = 0\n",
    "\n",
    "for idx, row in music.iterrows():\n",
    "    if idx % 50 == 0:\n",
    "        print(idx)\n",
    "    if row[\"Certainty\"] == 1:\n",
    "        cert1 += 1\n",
    "        for i in range(1, 9):\n",
    "            out = out.append(\n",
    "                {\"text\": row[\"text\"], \"class\": row[\"Majority\"]}, ignore_index=True\n",
    "            )\n",
    "    if row[\"Certainty\"] == 0.875:\n",
    "        cert2 += 1\n",
    "        for i in range(1, 8):\n",
    "            out = out.append(\n",
    "                {\"text\": row[\"text\"], \"class\": row[\"Majority\"]}, ignore_index=True\n",
    "            )\n",
    "    if row[\"Certainty\"] == 0.75:\n",
    "        cert3 += 1\n",
    "        for i in range(1, 7):\n",
    "            out = out.append(\n",
    "                {\"text\": row[\"text\"], \"class\": row[\"Majority\"]}, ignore_index=True\n",
    "            )\n",
    "    if row[\"Certainty\"] == 0.625:\n",
    "        cert4 += 1\n",
    "        for i in range(1, 6):\n",
    "            out = out.append(\n",
    "                {\"text\": row[\"text\"], \"class\": row[\"Majority\"]}, ignore_index=True\n",
    "            )\n",
    "    if row[\"Certainty\"] == 0.5:\n",
    "        cert5 += 1\n",
    "        for i in range(1, 5):\n",
    "            out = out.append(\n",
    "                {\"text\": row[\"text\"], \"class\": row[\"Majority\"]}, ignore_index=True\n",
    "            )"
   ]
  },
  {
   "cell_type": "code",
   "execution_count": 7,
   "metadata": {},
   "outputs": [
    {
     "data": {
      "text/plain": [
       "1000"
      ]
     },
     "execution_count": 7,
     "metadata": {},
     "output_type": "execute_result"
    },
    {
     "data": {
      "application/javascript": [
       "\n",
       "            setTimeout(function() {\n",
       "                var nbb_cell_id = 7;\n",
       "                var nbb_unformatted_code = \"cert1 + cert2 + cert3 + cert4 + cert5\";\n",
       "                var nbb_formatted_code = \"cert1 + cert2 + cert3 + cert4 + cert5\";\n",
       "                var nbb_cells = Jupyter.notebook.get_cells();\n",
       "                for (var i = 0; i < nbb_cells.length; ++i) {\n",
       "                    if (nbb_cells[i].input_prompt_number == nbb_cell_id) {\n",
       "                        if (nbb_cells[i].get_text() == nbb_unformatted_code) {\n",
       "                             nbb_cells[i].set_text(nbb_formatted_code);\n",
       "                        }\n",
       "                        break;\n",
       "                    }\n",
       "                }\n",
       "            }, 500);\n",
       "            "
      ],
      "text/plain": [
       "<IPython.core.display.Javascript object>"
      ]
     },
     "metadata": {},
     "output_type": "display_data"
    }
   ],
   "source": [
    "cert1 + cert2 + cert3 + cert4 + cert5"
   ]
  },
  {
   "cell_type": "code",
   "execution_count": 8,
   "metadata": {},
   "outputs": [
    {
     "data": {
      "text/plain": [
       "5912"
      ]
     },
     "execution_count": 8,
     "metadata": {},
     "output_type": "execute_result"
    },
    {
     "data": {
      "application/javascript": [
       "\n",
       "            setTimeout(function() {\n",
       "                var nbb_cell_id = 8;\n",
       "                var nbb_unformatted_code = \"len(out)\";\n",
       "                var nbb_formatted_code = \"len(out)\";\n",
       "                var nbb_cells = Jupyter.notebook.get_cells();\n",
       "                for (var i = 0; i < nbb_cells.length; ++i) {\n",
       "                    if (nbb_cells[i].input_prompt_number == nbb_cell_id) {\n",
       "                        if (nbb_cells[i].get_text() == nbb_unformatted_code) {\n",
       "                             nbb_cells[i].set_text(nbb_formatted_code);\n",
       "                        }\n",
       "                        break;\n",
       "                    }\n",
       "                }\n",
       "            }, 500);\n",
       "            "
      ],
      "text/plain": [
       "<IPython.core.display.Javascript object>"
      ]
     },
     "metadata": {},
     "output_type": "display_data"
    }
   ],
   "source": [
    "len(out)"
   ]
  },
  {
   "cell_type": "code",
   "execution_count": 9,
   "metadata": {},
   "outputs": [
    {
     "data": {
      "application/javascript": [
       "\n",
       "            setTimeout(function() {\n",
       "                var nbb_cell_id = 9;\n",
       "                var nbb_unformatted_code = \"out.to_csv(\\\"hw3_data/music.train.annotators.m1.csv\\\", encoding=\\\"utf-8-sig\\\", index=False)\";\n",
       "                var nbb_formatted_code = \"out.to_csv(\\\"hw3_data/music.train.annotators.m1.csv\\\", encoding=\\\"utf-8-sig\\\", index=False)\";\n",
       "                var nbb_cells = Jupyter.notebook.get_cells();\n",
       "                for (var i = 0; i < nbb_cells.length; ++i) {\n",
       "                    if (nbb_cells[i].input_prompt_number == nbb_cell_id) {\n",
       "                        if (nbb_cells[i].get_text() == nbb_unformatted_code) {\n",
       "                             nbb_cells[i].set_text(nbb_formatted_code);\n",
       "                        }\n",
       "                        break;\n",
       "                    }\n",
       "                }\n",
       "            }, 500);\n",
       "            "
      ],
      "text/plain": [
       "<IPython.core.display.Javascript object>"
      ]
     },
     "metadata": {},
     "output_type": "display_data"
    }
   ],
   "source": [
    "out.to_csv(\"hw3_data/music.train.annotators.m1.csv\", encoding=\"utf-8-sig\", index=False)"
   ]
  },
  {
   "cell_type": "code",
   "execution_count": 10,
   "metadata": {},
   "outputs": [
    {
     "data": {
      "application/javascript": [
       "\n",
       "            setTimeout(function() {\n",
       "                var nbb_cell_id = 10;\n",
       "                var nbb_unformatted_code = \"# ~~~~~~~~~~~~~~~~~~~~~~~~~~~~~~~~~~~~~~~~~~\\n# Begin method 2\";\n",
       "                var nbb_formatted_code = \"# ~~~~~~~~~~~~~~~~~~~~~~~~~~~~~~~~~~~~~~~~~~\\n# Begin method 2\";\n",
       "                var nbb_cells = Jupyter.notebook.get_cells();\n",
       "                for (var i = 0; i < nbb_cells.length; ++i) {\n",
       "                    if (nbb_cells[i].input_prompt_number == nbb_cell_id) {\n",
       "                        if (nbb_cells[i].get_text() == nbb_unformatted_code) {\n",
       "                             nbb_cells[i].set_text(nbb_formatted_code);\n",
       "                        }\n",
       "                        break;\n",
       "                    }\n",
       "                }\n",
       "            }, 500);\n",
       "            "
      ],
      "text/plain": [
       "<IPython.core.display.Javascript object>"
      ]
     },
     "metadata": {},
     "output_type": "display_data"
    }
   ],
   "source": [
    "# ~~~~~~~~~~~~~~~~~~~~~~~~~~~~~~~~~~~~~~~~~~\n",
    "# Begin method 2"
   ]
  },
  {
   "cell_type": "code",
   "execution_count": 11,
   "metadata": {},
   "outputs": [
    {
     "data": {
      "application/javascript": [
       "\n",
       "            setTimeout(function() {\n",
       "                var nbb_cell_id = 11;\n",
       "                var nbb_unformatted_code = \"music = pd.read_csv(\\\"hw3_data/music.train.annotators.csv\\\", encoding=\\\"latin-1\\\")\";\n",
       "                var nbb_formatted_code = \"music = pd.read_csv(\\\"hw3_data/music.train.annotators.csv\\\", encoding=\\\"latin-1\\\")\";\n",
       "                var nbb_cells = Jupyter.notebook.get_cells();\n",
       "                for (var i = 0; i < nbb_cells.length; ++i) {\n",
       "                    if (nbb_cells[i].input_prompt_number == nbb_cell_id) {\n",
       "                        if (nbb_cells[i].get_text() == nbb_unformatted_code) {\n",
       "                             nbb_cells[i].set_text(nbb_formatted_code);\n",
       "                        }\n",
       "                        break;\n",
       "                    }\n",
       "                }\n",
       "            }, 500);\n",
       "            "
      ],
      "text/plain": [
       "<IPython.core.display.Javascript object>"
      ]
     },
     "metadata": {},
     "output_type": "display_data"
    }
   ],
   "source": [
    "music = pd.read_csv(\"hw3_data/music.train.annotators.csv\", encoding=\"latin-1\")"
   ]
  },
  {
   "cell_type": "code",
   "execution_count": 12,
   "metadata": {},
   "outputs": [
    {
     "data": {
      "application/javascript": [
       "\n",
       "            setTimeout(function() {\n",
       "                var nbb_cell_id = 12;\n",
       "                var nbb_unformatted_code = \"d = {\\\"text\\\": [], \\\"class\\\": []}\\nout = pd.DataFrame(data=d)\";\n",
       "                var nbb_formatted_code = \"d = {\\\"text\\\": [], \\\"class\\\": []}\\nout = pd.DataFrame(data=d)\";\n",
       "                var nbb_cells = Jupyter.notebook.get_cells();\n",
       "                for (var i = 0; i < nbb_cells.length; ++i) {\n",
       "                    if (nbb_cells[i].input_prompt_number == nbb_cell_id) {\n",
       "                        if (nbb_cells[i].get_text() == nbb_unformatted_code) {\n",
       "                             nbb_cells[i].set_text(nbb_formatted_code);\n",
       "                        }\n",
       "                        break;\n",
       "                    }\n",
       "                }\n",
       "            }, 500);\n",
       "            "
      ],
      "text/plain": [
       "<IPython.core.display.Javascript object>"
      ]
     },
     "metadata": {},
     "output_type": "display_data"
    }
   ],
   "source": [
    "d = {\"text\": [], \"class\": []}\n",
    "out = pd.DataFrame(data=d)"
   ]
  },
  {
   "cell_type": "code",
   "execution_count": 13,
   "metadata": {},
   "outputs": [
    {
     "name": "stdout",
     "output_type": "stream",
     "text": [
      "0\n",
      "50\n",
      "100\n",
      "150\n",
      "200\n",
      "250\n",
      "300\n",
      "350\n",
      "400\n",
      "450\n",
      "500\n",
      "550\n",
      "600\n",
      "650\n",
      "700\n",
      "750\n",
      "800\n",
      "850\n",
      "900\n",
      "950\n"
     ]
    },
    {
     "data": {
      "application/javascript": [
       "\n",
       "            setTimeout(function() {\n",
       "                var nbb_cell_id = 13;\n",
       "                var nbb_unformatted_code = \"for idx, row in music.iterrows():\\n    if idx % 50 == 0:\\n        print(idx)\\n    out = out.append({\\\"text\\\": row[\\\"text\\\"], \\\"class\\\": row[\\\"a1\\\"]}, ignore_index=True)\\n    out = out.append({\\\"text\\\": row[\\\"text\\\"], \\\"class\\\": row[\\\"a2\\\"]}, ignore_index=True)\\n    out = out.append({\\\"text\\\": row[\\\"text\\\"], \\\"class\\\": row[\\\"a3\\\"]}, ignore_index=True)\\n    out = out.append({\\\"text\\\": row[\\\"text\\\"], \\\"class\\\": row[\\\"a5\\\"]}, ignore_index=True)\\n    out = out.append({\\\"text\\\": row[\\\"text\\\"], \\\"class\\\": row[\\\"a6\\\"]}, ignore_index=True)\\n    out = out.append({\\\"text\\\": row[\\\"text\\\"], \\\"class\\\": row[\\\"a7\\\"]}, ignore_index=True)\";\n",
       "                var nbb_formatted_code = \"for idx, row in music.iterrows():\\n    if idx % 50 == 0:\\n        print(idx)\\n    out = out.append({\\\"text\\\": row[\\\"text\\\"], \\\"class\\\": row[\\\"a1\\\"]}, ignore_index=True)\\n    out = out.append({\\\"text\\\": row[\\\"text\\\"], \\\"class\\\": row[\\\"a2\\\"]}, ignore_index=True)\\n    out = out.append({\\\"text\\\": row[\\\"text\\\"], \\\"class\\\": row[\\\"a3\\\"]}, ignore_index=True)\\n    out = out.append({\\\"text\\\": row[\\\"text\\\"], \\\"class\\\": row[\\\"a5\\\"]}, ignore_index=True)\\n    out = out.append({\\\"text\\\": row[\\\"text\\\"], \\\"class\\\": row[\\\"a6\\\"]}, ignore_index=True)\\n    out = out.append({\\\"text\\\": row[\\\"text\\\"], \\\"class\\\": row[\\\"a7\\\"]}, ignore_index=True)\";\n",
       "                var nbb_cells = Jupyter.notebook.get_cells();\n",
       "                for (var i = 0; i < nbb_cells.length; ++i) {\n",
       "                    if (nbb_cells[i].input_prompt_number == nbb_cell_id) {\n",
       "                        if (nbb_cells[i].get_text() == nbb_unformatted_code) {\n",
       "                             nbb_cells[i].set_text(nbb_formatted_code);\n",
       "                        }\n",
       "                        break;\n",
       "                    }\n",
       "                }\n",
       "            }, 500);\n",
       "            "
      ],
      "text/plain": [
       "<IPython.core.display.Javascript object>"
      ]
     },
     "metadata": {},
     "output_type": "display_data"
    }
   ],
   "source": [
    "for idx, row in music.iterrows():\n",
    "    if idx % 50 == 0:\n",
    "        print(idx)\n",
    "    out = out.append({\"text\": row[\"text\"], \"class\": row[\"a1\"]}, ignore_index=True)\n",
    "    out = out.append({\"text\": row[\"text\"], \"class\": row[\"a2\"]}, ignore_index=True)\n",
    "    out = out.append({\"text\": row[\"text\"], \"class\": row[\"a3\"]}, ignore_index=True)\n",
    "    out = out.append({\"text\": row[\"text\"], \"class\": row[\"a5\"]}, ignore_index=True)\n",
    "    out = out.append({\"text\": row[\"text\"], \"class\": row[\"a6\"]}, ignore_index=True)\n",
    "    out = out.append({\"text\": row[\"text\"], \"class\": row[\"a7\"]}, ignore_index=True)"
   ]
  },
  {
   "cell_type": "code",
   "execution_count": 14,
   "metadata": {},
   "outputs": [
    {
     "data": {
      "application/javascript": [
       "\n",
       "            setTimeout(function() {\n",
       "                var nbb_cell_id = 14;\n",
       "                var nbb_unformatted_code = \"out.to_csv(\\\"hw3_data/music.train.annotators.m2.csv\\\", encoding=\\\"utf-8-sig\\\", index=False)\";\n",
       "                var nbb_formatted_code = \"out.to_csv(\\\"hw3_data/music.train.annotators.m2.csv\\\", encoding=\\\"utf-8-sig\\\", index=False)\";\n",
       "                var nbb_cells = Jupyter.notebook.get_cells();\n",
       "                for (var i = 0; i < nbb_cells.length; ++i) {\n",
       "                    if (nbb_cells[i].input_prompt_number == nbb_cell_id) {\n",
       "                        if (nbb_cells[i].get_text() == nbb_unformatted_code) {\n",
       "                             nbb_cells[i].set_text(nbb_formatted_code);\n",
       "                        }\n",
       "                        break;\n",
       "                    }\n",
       "                }\n",
       "            }, 500);\n",
       "            "
      ],
      "text/plain": [
       "<IPython.core.display.Javascript object>"
      ]
     },
     "metadata": {},
     "output_type": "display_data"
    }
   ],
   "source": [
    "out.to_csv(\"hw3_data/music.train.annotators.m2.csv\", encoding=\"utf-8-sig\", index=False)"
   ]
  },
  {
   "cell_type": "code",
   "execution_count": 15,
   "metadata": {},
   "outputs": [
    {
     "data": {
      "application/javascript": [
       "\n",
       "            setTimeout(function() {\n",
       "                var nbb_cell_id = 15;\n",
       "                var nbb_unformatted_code = \"# ~~~~~~~~~~~~~~~~~~~~~~~~~~~~~~~~~~~~~~~~~~\\n# Begin method 3\";\n",
       "                var nbb_formatted_code = \"# ~~~~~~~~~~~~~~~~~~~~~~~~~~~~~~~~~~~~~~~~~~\\n# Begin method 3\";\n",
       "                var nbb_cells = Jupyter.notebook.get_cells();\n",
       "                for (var i = 0; i < nbb_cells.length; ++i) {\n",
       "                    if (nbb_cells[i].input_prompt_number == nbb_cell_id) {\n",
       "                        if (nbb_cells[i].get_text() == nbb_unformatted_code) {\n",
       "                             nbb_cells[i].set_text(nbb_formatted_code);\n",
       "                        }\n",
       "                        break;\n",
       "                    }\n",
       "                }\n",
       "            }, 500);\n",
       "            "
      ],
      "text/plain": [
       "<IPython.core.display.Javascript object>"
      ]
     },
     "metadata": {},
     "output_type": "display_data"
    }
   ],
   "source": [
    "# ~~~~~~~~~~~~~~~~~~~~~~~~~~~~~~~~~~~~~~~~~~\n",
    "# Begin method 3"
   ]
  },
  {
   "cell_type": "code",
   "execution_count": 16,
   "metadata": {},
   "outputs": [
    {
     "data": {
      "application/javascript": [
       "\n",
       "            setTimeout(function() {\n",
       "                var nbb_cell_id = 16;\n",
       "                var nbb_unformatted_code = \"music = pd.read_csv(\\\"hw3_data/music.train.annotators.csv\\\", encoding=\\\"latin-1\\\")\";\n",
       "                var nbb_formatted_code = \"music = pd.read_csv(\\\"hw3_data/music.train.annotators.csv\\\", encoding=\\\"latin-1\\\")\";\n",
       "                var nbb_cells = Jupyter.notebook.get_cells();\n",
       "                for (var i = 0; i < nbb_cells.length; ++i) {\n",
       "                    if (nbb_cells[i].input_prompt_number == nbb_cell_id) {\n",
       "                        if (nbb_cells[i].get_text() == nbb_unformatted_code) {\n",
       "                             nbb_cells[i].set_text(nbb_formatted_code);\n",
       "                        }\n",
       "                        break;\n",
       "                    }\n",
       "                }\n",
       "            }, 500);\n",
       "            "
      ],
      "text/plain": [
       "<IPython.core.display.Javascript object>"
      ]
     },
     "metadata": {},
     "output_type": "display_data"
    }
   ],
   "source": [
    "music = pd.read_csv(\"hw3_data/music.train.annotators.csv\", encoding=\"latin-1\")"
   ]
  },
  {
   "cell_type": "code",
   "execution_count": 17,
   "metadata": {},
   "outputs": [
    {
     "data": {
      "application/javascript": [
       "\n",
       "            setTimeout(function() {\n",
       "                var nbb_cell_id = 17;\n",
       "                var nbb_unformatted_code = \"d = {\\\"text\\\": [], \\\"class\\\": []}\\nout = pd.DataFrame(data=d)\";\n",
       "                var nbb_formatted_code = \"d = {\\\"text\\\": [], \\\"class\\\": []}\\nout = pd.DataFrame(data=d)\";\n",
       "                var nbb_cells = Jupyter.notebook.get_cells();\n",
       "                for (var i = 0; i < nbb_cells.length; ++i) {\n",
       "                    if (nbb_cells[i].input_prompt_number == nbb_cell_id) {\n",
       "                        if (nbb_cells[i].get_text() == nbb_unformatted_code) {\n",
       "                             nbb_cells[i].set_text(nbb_formatted_code);\n",
       "                        }\n",
       "                        break;\n",
       "                    }\n",
       "                }\n",
       "            }, 500);\n",
       "            "
      ],
      "text/plain": [
       "<IPython.core.display.Javascript object>"
      ]
     },
     "metadata": {},
     "output_type": "display_data"
    }
   ],
   "source": [
    "d = {\"text\": [], \"class\": []}\n",
    "out = pd.DataFrame(data=d)"
   ]
  },
  {
   "cell_type": "code",
   "execution_count": 18,
   "metadata": {},
   "outputs": [
    {
     "name": "stdout",
     "output_type": "stream",
     "text": [
      "0\n",
      "50\n",
      "100\n",
      "150\n",
      "200\n",
      "250\n",
      "300\n",
      "350\n",
      "400\n",
      "450\n",
      "500\n",
      "550\n",
      "600\n",
      "650\n",
      "700\n",
      "750\n",
      "800\n",
      "850\n",
      "900\n",
      "950\n"
     ]
    },
    {
     "data": {
      "application/javascript": [
       "\n",
       "            setTimeout(function() {\n",
       "                var nbb_cell_id = 18;\n",
       "                var nbb_unformatted_code = \"# Annotator consistency order: .699, .737, .694, .498, .653, .565, .721, .804 - a8, a2, a7, a1, a3, a5, a6, a4\\n\\nfor idx, row in music.iterrows():\\n    if idx % 50 == 0:\\n        print(idx)\\n    for i in range(1, 9):\\n        out = out.append({\\\"text\\\": row[\\\"text\\\"], \\\"class\\\": row[\\\"a8\\\"]}, ignore_index=True)\\n    for i in range(1, 8):\\n        out = out.append({\\\"text\\\": row[\\\"text\\\"], \\\"class\\\": row[\\\"a2\\\"]}, ignore_index=True)\\n    for i in range(1, 7):\\n        out = out.append({\\\"text\\\": row[\\\"text\\\"], \\\"class\\\": row[\\\"a7\\\"]}, ignore_index=True)\\n    for i in range(1, 6):\\n        out = out.append({\\\"text\\\": row[\\\"text\\\"], \\\"class\\\": row[\\\"a1\\\"]}, ignore_index=True)\\n    for i in range(1, 5):\\n        out = out.append({\\\"text\\\": row[\\\"text\\\"], \\\"class\\\": row[\\\"a3\\\"]}, ignore_index=True)\\n    for i in range(1, 4):\\n        out = out.append({\\\"text\\\": row[\\\"text\\\"], \\\"class\\\": row[\\\"a5\\\"]}, ignore_index=True)\\n    for i in range(1, 3):\\n        out = out.append({\\\"text\\\": row[\\\"text\\\"], \\\"class\\\": row[\\\"a6\\\"]}, ignore_index=True)\\n    for i in range(1, 2):\\n        out = out.append({\\\"text\\\": row[\\\"text\\\"], \\\"class\\\": row[\\\"a4\\\"]}, ignore_index=True)\";\n",
       "                var nbb_formatted_code = \"# Annotator consistency order: .699, .737, .694, .498, .653, .565, .721, .804 - a8, a2, a7, a1, a3, a5, a6, a4\\n\\nfor idx, row in music.iterrows():\\n    if idx % 50 == 0:\\n        print(idx)\\n    for i in range(1, 9):\\n        out = out.append({\\\"text\\\": row[\\\"text\\\"], \\\"class\\\": row[\\\"a8\\\"]}, ignore_index=True)\\n    for i in range(1, 8):\\n        out = out.append({\\\"text\\\": row[\\\"text\\\"], \\\"class\\\": row[\\\"a2\\\"]}, ignore_index=True)\\n    for i in range(1, 7):\\n        out = out.append({\\\"text\\\": row[\\\"text\\\"], \\\"class\\\": row[\\\"a7\\\"]}, ignore_index=True)\\n    for i in range(1, 6):\\n        out = out.append({\\\"text\\\": row[\\\"text\\\"], \\\"class\\\": row[\\\"a1\\\"]}, ignore_index=True)\\n    for i in range(1, 5):\\n        out = out.append({\\\"text\\\": row[\\\"text\\\"], \\\"class\\\": row[\\\"a3\\\"]}, ignore_index=True)\\n    for i in range(1, 4):\\n        out = out.append({\\\"text\\\": row[\\\"text\\\"], \\\"class\\\": row[\\\"a5\\\"]}, ignore_index=True)\\n    for i in range(1, 3):\\n        out = out.append({\\\"text\\\": row[\\\"text\\\"], \\\"class\\\": row[\\\"a6\\\"]}, ignore_index=True)\\n    for i in range(1, 2):\\n        out = out.append({\\\"text\\\": row[\\\"text\\\"], \\\"class\\\": row[\\\"a4\\\"]}, ignore_index=True)\";\n",
       "                var nbb_cells = Jupyter.notebook.get_cells();\n",
       "                for (var i = 0; i < nbb_cells.length; ++i) {\n",
       "                    if (nbb_cells[i].input_prompt_number == nbb_cell_id) {\n",
       "                        if (nbb_cells[i].get_text() == nbb_unformatted_code) {\n",
       "                             nbb_cells[i].set_text(nbb_formatted_code);\n",
       "                        }\n",
       "                        break;\n",
       "                    }\n",
       "                }\n",
       "            }, 500);\n",
       "            "
      ],
      "text/plain": [
       "<IPython.core.display.Javascript object>"
      ]
     },
     "metadata": {},
     "output_type": "display_data"
    }
   ],
   "source": [
    "# Annotator consistency order: .699, .737, .694, .498, .653, .565, .721, .804 - a8, a2, a7, a1, a3, a5, a6, a4\n",
    "\n",
    "for idx, row in music.iterrows():\n",
    "    if idx % 50 == 0:\n",
    "        print(idx)\n",
    "    for i in range(1, 9):\n",
    "        out = out.append({\"text\": row[\"text\"], \"class\": row[\"a8\"]}, ignore_index=True)\n",
    "    for i in range(1, 8):\n",
    "        out = out.append({\"text\": row[\"text\"], \"class\": row[\"a2\"]}, ignore_index=True)\n",
    "    for i in range(1, 7):\n",
    "        out = out.append({\"text\": row[\"text\"], \"class\": row[\"a7\"]}, ignore_index=True)\n",
    "    for i in range(1, 6):\n",
    "        out = out.append({\"text\": row[\"text\"], \"class\": row[\"a1\"]}, ignore_index=True)\n",
    "    for i in range(1, 5):\n",
    "        out = out.append({\"text\": row[\"text\"], \"class\": row[\"a3\"]}, ignore_index=True)\n",
    "    for i in range(1, 4):\n",
    "        out = out.append({\"text\": row[\"text\"], \"class\": row[\"a5\"]}, ignore_index=True)\n",
    "    for i in range(1, 3):\n",
    "        out = out.append({\"text\": row[\"text\"], \"class\": row[\"a6\"]}, ignore_index=True)\n",
    "    for i in range(1, 2):\n",
    "        out = out.append({\"text\": row[\"text\"], \"class\": row[\"a4\"]}, ignore_index=True)"
   ]
  },
  {
   "cell_type": "code",
   "execution_count": 19,
   "metadata": {},
   "outputs": [
    {
     "data": {
      "application/javascript": [
       "\n",
       "            setTimeout(function() {\n",
       "                var nbb_cell_id = 19;\n",
       "                var nbb_unformatted_code = \"out.to_csv(\\\"hw3_data/music.train.annotators.m3.csv\\\", encoding=\\\"utf-8-sig\\\", index=False)\";\n",
       "                var nbb_formatted_code = \"out.to_csv(\\\"hw3_data/music.train.annotators.m3.csv\\\", encoding=\\\"utf-8-sig\\\", index=False)\";\n",
       "                var nbb_cells = Jupyter.notebook.get_cells();\n",
       "                for (var i = 0; i < nbb_cells.length; ++i) {\n",
       "                    if (nbb_cells[i].input_prompt_number == nbb_cell_id) {\n",
       "                        if (nbb_cells[i].get_text() == nbb_unformatted_code) {\n",
       "                             nbb_cells[i].set_text(nbb_formatted_code);\n",
       "                        }\n",
       "                        break;\n",
       "                    }\n",
       "                }\n",
       "            }, 500);\n",
       "            "
      ],
      "text/plain": [
       "<IPython.core.display.Javascript object>"
      ]
     },
     "metadata": {},
     "output_type": "display_data"
    }
   ],
   "source": [
    "out.to_csv(\"hw3_data/music.train.annotators.m3.csv\", encoding=\"utf-8-sig\", index=False)"
   ]
  },
  {
   "cell_type": "code",
   "execution_count": null,
   "metadata": {},
   "outputs": [],
   "source": []
  }
 ],
 "metadata": {
  "kernelspec": {
   "display_name": "Python 3",
   "language": "python",
   "name": "python3"
  },
  "language_info": {
   "codemirror_mode": {
    "name": "ipython",
    "version": 3
   },
   "file_extension": ".py",
   "mimetype": "text/x-python",
   "name": "python",
   "nbconvert_exporter": "python",
   "pygments_lexer": "ipython3",
   "version": "3.8.1"
  }
 },
 "nbformat": 4,
 "nbformat_minor": 4
}
